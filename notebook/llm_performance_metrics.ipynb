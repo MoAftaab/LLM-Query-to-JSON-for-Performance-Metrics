{
 "cells": [
  {
   "cell_type": "markdown",
   "metadata": {},
   "source": [
    "# LLM Performance Metrics Application\n",
    "\n",
    "This notebook provides an interactive environment for testing the LLM-powered application that extracts company performance metrics from user queries and converts them into a structured JSON format."
   ]
  },
  {
   "cell_type": "code",
   "execution_count": null,
   "metadata": {},
   "outputs": [],
   "source": [
    "# Import necessary modules\n",
    "from src.llm_integration import query_llm\n",
    "from src.query_parser import parse_query\n",
    "from src.utils import get_default_dates\n",
    "\n",
    "# Example user queries\n",
    "queries = [\n",
    "    \"Get me Flipkart's GMV for the last one year\",\n",
    "    \"Compare this with Amazon\",\n",
    "    \"What was the revenue of Google in 2022?\"\n",
    "]\n",
    "\n",
    "# Process each query\n",
    "for query in queries:\n",
    "    # Get default dates if not specified\n",
    "    start_date, end_date = get_default_dates()\n",
    "    \n",
    "    # Parse the query to extract information\n",
    "    parsed_data = parse_query(query, start_date, end_date)\n",
    "    \n",
    "    # Send the query to the LLM and get the response\n",
    "    llm_response = query_llm(query)\n",
    "    \n",
    "    # Display the structured JSON output\n",
    "    print(parsed_data)\n",
    "    print(llm_response)\n"
   ]
  }
 ],
 "metadata": {
  "kernelspec": {
   "display_name": "Python 3",
   "language": "python",
   "name": "python3"
  },
  "language_info": {
   "codemirror_mode": {
    "name": "ipython",
    "version": 3
   },
   "file_extension": ".py",
   "mimetype": "text/x-python",
   "name": "python",
   "nbconvert_exporter": "python",
   "pygments_lexer": "ipython3",
   "version": "3.8.5"
  }
 },
 "nbformat": 4,
 "nbformat_minor": 4
}